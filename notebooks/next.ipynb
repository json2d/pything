{
 "cells": [
  {
   "cell_type": "code",
   "execution_count": 1,
   "source": [
    "%load_ext autoreload\r\n",
    "\r\n",
    "%autoreload 2"
   ],
   "outputs": [],
   "metadata": {}
  },
  {
   "cell_type": "code",
   "execution_count": 3,
   "source": [
    "import os\r\n",
    "import dotrelay\r\n",
    "\r\n",
    "__file__ = os.path.abspath('') # polyfill __file__ for jupyter notebooks, ref: https://stackoverflow.com/a/54376484\r\n",
    "\r\n",
    "with dotrelay.Radio(__file__) as rad:\r\n",
    "  import pything as pyt"
   ],
   "outputs": [],
   "metadata": {}
  },
  {
   "cell_type": "code",
   "execution_count": 6,
   "source": [
    "from loguru import logger\r\n",
    "\r\n",
    "logger.info('hello world via notebook')"
   ],
   "outputs": [
    {
     "output_type": "stream",
     "name": "stderr",
     "text": [
      "2021-09-24 17:34:19.319 | INFO     | __main__:<module>:3 - hello world via notebook\n"
     ]
    }
   ],
   "metadata": {}
  },
  {
   "cell_type": "code",
   "execution_count": 7,
   "source": [
    "pyt.do_stuff()"
   ],
   "outputs": [
    {
     "output_type": "stream",
     "name": "stderr",
     "text": [
      "2021-09-24 17:34:19.383 | INFO     | pything.core:do_stuff:4 - ...\n"
     ]
    },
    {
     "output_type": "execute_result",
     "data": {
      "text/plain": [
       "42"
      ]
     },
     "metadata": {},
     "execution_count": 7
    }
   ],
   "metadata": {}
  },
  {
   "cell_type": "code",
   "execution_count": 8,
   "source": [
    "pyt.do_crazier_stuff()"
   ],
   "outputs": [
    {
     "output_type": "stream",
     "name": "stderr",
     "text": [
      "2021-09-24 17:34:19.458 | INFO     | pything.core:do_crazier_stuff:8 - hello world. try your baz\n"
     ]
    },
    {
     "output_type": "execute_result",
     "data": {
      "text/plain": [
       "42"
      ]
     },
     "metadata": {},
     "execution_count": 8
    }
   ],
   "metadata": {}
  }
 ],
 "metadata": {
  "orig_nbformat": 4,
  "language_info": {
   "name": "python",
   "version": "3.9.7",
   "mimetype": "text/x-python",
   "codemirror_mode": {
    "name": "ipython",
    "version": 3
   },
   "pygments_lexer": "ipython3",
   "nbconvert_exporter": "python",
   "file_extension": ".py"
  },
  "kernelspec": {
   "name": "python3",
   "display_name": "Python 3.9.7 64-bit ('.env': venv)"
  },
  "interpreter": {
   "hash": "9f76f5e0dfbb643b066798409055fff5592902ddb7d4b1698beee6e32c2b897e"
  }
 },
 "nbformat": 4,
 "nbformat_minor": 2
}